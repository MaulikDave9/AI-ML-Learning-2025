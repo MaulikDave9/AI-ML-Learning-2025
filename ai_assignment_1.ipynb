{
 "cells": [
  {
   "cell_type": "markdown",
   "id": "cc9489b4",
   "metadata": {
    "nbgrader": {
     "grade": false,
     "grade_id": "cell-md-1",
     "locked": false,
     "schema_version": 3,
     "solution": false,
     "task": false
    }
   },
   "source": [
    "# Assignment 1: Python Skills"
   ]
  },
  {
   "cell_type": "markdown",
   "id": "6ca23aaf",
   "metadata": {
    "nbgrader": {
     "grade": false,
     "grade_id": "cell-md-2",
     "locked": false,
     "schema_version": 3,
     "solution": false,
     "task": false
    }
   },
   "source": [
    "## Instructions\n",
    "\n",
    "In this assignment, you will answer some conceptual questions about Python and write a collection of basic algorithms and data structures.  You will find that in addition to a problem specification, each programming question also includes examples from the Python interpreter. These are meant to illustrate typical use cases, and should not be taken as comprehensive test suites.\n",
    "\n",
    "### Note:\n",
    "You are expected to write code where you see **your code here**.  \n",
    "Make sure you delete the lines with **pass** and **raise NotImplementedError** or your code may not run correctly."
   ]
  },
  {
   "cell_type": "markdown",
   "id": "71a10464",
   "metadata": {
    "nbgrader": {
     "grade": false,
     "grade_id": "cell-md-2",
     "locked": false,
     "schema_version": 3,
     "solution": false,
     "task": false
    }
   },
   "source": [
    "## Working with Lists\n",
    "\n",
    "Write a function concatenate(seqs) that returns a list containing the concatenation of the elements of the input sequences. Your implementation should consist of a single list comprehension, and should not exceed one line."
   ]
  },
  {
   "cell_type": "code",
   "execution_count": 31,
   "id": "e922e6f9",
   "metadata": {
    "deletable": false,
    "nbgrader": {
     "cell_type": "code",
     "checksum": "800c9271c47933eb6322a01f549ede2c",
     "grade": false,
     "grade_id": "cell-solution-1",
     "locked": false,
     "schema_version": 3,
     "solution": true
    }
   },
   "outputs": [],
   "source": [
    "############################################################\n",
    "# Section: Working with Lists\n",
    "############################################################\n",
    "\n",
    "def concatenate(seqs):\n",
    "    return [x for s in seqs for x in s]"
   ]
  },
  {
   "cell_type": "code",
   "execution_count": 32,
   "id": "c1051880",
   "metadata": {
    "deletable": false,
    "editable": false,
    "nbgrader": {
     "cell_type": "code",
     "checksum": "f04426b8b208e7fdab77b1592c5219ce",
     "grade": true,
     "grade_id": "cell-test-1",
     "locked": true,
     "points": 10,
     "schema_version": 3,
     "solution": false
    }
   },
   "outputs": [
    {
     "name": "stdout",
     "output_type": "stream",
     "text": [
      "test passed!\n"
     ]
    }
   ],
   "source": [
    "##########################\n",
    "### TEST YOUR SOLUTION ###\n",
    "##########################\n",
    "\n",
    "# concatenate test\n",
    "concatenate_test = concatenate([[1, 2], [3, 4]])\n",
    "assert concatenate_test == [1, 2, 3, 4], \"Concatenated list should be [1, 2, 3, 4]\"\n",
    "concatenate_test = concatenate([[1, 2], [3, 4, 5]])\n",
    "assert concatenate_test == [1, 2, 3, 4, 5], \"Concatenated list should be [1, 2, 3, 4, 5]\"\n",
    "print(\"test passed!\")\n"
   ]
  },
  {
   "cell_type": "markdown",
   "id": "9a996756",
   "metadata": {
    "nbgrader": {
     "grade": false,
     "grade_id": "cell-md-2",
     "locked": false,
     "schema_version": 3,
     "solution": false,
     "task": false
    }
   },
   "source": [
    "Write a function transpose(matrix) that returns the transpose of the input matrix, which is represented as a list of lists. Recall that the transpose of a matrix is obtained by swapping its rows with its columns. More concretely, the equality matrix[i][j] == transpose(matrix)[j][i] should hold for all valid indices i and j. You may assume that the input matrix is well-formed, i.e., that each row is of equal length. You may further assume that the input matrix is non-empty. Your function should not modify the input."
   ]
  },
  {
   "cell_type": "code",
   "execution_count": 33,
   "id": "7feeb0f2",
   "metadata": {
    "deletable": false,
    "nbgrader": {
     "cell_type": "code",
     "checksum": "5fc969eb27a4d0308bd340034fc5a9fd",
     "grade": false,
     "grade_id": "cell-solution-2",
     "locked": false,
     "schema_version": 3,
     "solution": true
    }
   },
   "outputs": [],
   "source": [
    "# Can I do this using numpy or that measn modifying input?\n",
    "import numpy as np\n",
    "\n",
    "def transpose(matrix):\n",
    "    #m1 = np.array(matrix)\n",
    "    #print(m1.T) but that returns array so turn back to matrix!\n",
    "    return(np.array(matrix).T.tolist())\n",
    "    "
   ]
  },
  {
   "cell_type": "code",
   "execution_count": 34,
   "id": "b87c4116",
   "metadata": {
    "deletable": false,
    "editable": false,
    "nbgrader": {
     "cell_type": "code",
     "checksum": "3fae9a278b59b3fabd6a6d206150c9bf",
     "grade": true,
     "grade_id": "cell-test-2",
     "locked": true,
     "points": 10,
     "schema_version": 3,
     "solution": false
    }
   },
   "outputs": [
    {
     "name": "stdout",
     "output_type": "stream",
     "text": [
      "test passed!\n"
     ]
    }
   ],
   "source": [
    "##########################\n",
    "### TEST YOUR SOLUTION ###\n",
    "##########################\n",
    "\n",
    "# transpose test\n",
    "transpose_test1 = transpose([[1, 2, 3]])\n",
    "transpose_test2 = transpose([[1, 2], [3, 4], [5, 6]])\n",
    "assert transpose_test1 == [[1], [2], [3]], \"Transposed list should be [[1], [2], [3]]\"\n",
    "assert transpose_test2 == [[1, 3, 5], [2, 4, 6]], \"Transposed list should be [[1, 3, 5], [2, 4, 6]]\"\n",
    "print(\"test passed!\")\n"
   ]
  },
  {
   "cell_type": "markdown",
   "id": "0db75ce1",
   "metadata": {
    "nbgrader": {
     "grade": false,
     "grade_id": "cell-md-3",
     "locked": false,
     "schema_version": 3,
     "solution": false,
     "task": false
    }
   },
   "source": [
    "## Sequence Slicing\n",
    "\n",
    "Write a function copy(seq) that returns a new sequence containing the same elements as the input sequence."
   ]
  },
  {
   "cell_type": "code",
   "execution_count": 35,
   "id": "5436062a",
   "metadata": {
    "deletable": false,
    "nbgrader": {
     "cell_type": "code",
     "checksum": "23844bcdc3e21351cc3634e913131f40",
     "grade": false,
     "grade_id": "cell-solution-3",
     "locked": false,
     "schema_version": 3,
     "solution": true
    }
   },
   "outputs": [],
   "source": [
    "############################################################\n",
    "# Section: Sequence Slicing\n",
    "############################################################\n",
    "\n",
    "def copy(seq):\n",
    "    #return ''.join(x for x in seq) but doesn't work for non-string\n",
    "    return (seq) # handles string and lists.."
   ]
  },
  {
   "cell_type": "code",
   "execution_count": 36,
   "id": "f8fcfdc1",
   "metadata": {
    "deletable": false,
    "editable": false,
    "nbgrader": {
     "cell_type": "code",
     "checksum": "73b6b8afa6c0ff85f583e6b1fe2113a5",
     "grade": true,
     "grade_id": "cell-test-3",
     "locked": true,
     "points": 10,
     "schema_version": 3,
     "solution": false
    }
   },
   "outputs": [
    {
     "name": "stdout",
     "output_type": "stream",
     "text": [
      "test passed!\n"
     ]
    }
   ],
   "source": [
    "##########################\n",
    "### TEST YOUR SOLUTION ###\n",
    "##########################\n",
    "\n",
    "# copy test\n",
    "copy_test1 = copy(\"abc\")\n",
    "copy_test2 = copy((1, 2, 3))\n",
    "assert copy_test1 == 'abc'\n",
    "assert copy_test2 == (1, 2, 3)\n",
    "print(\"test passed!\")\n"
   ]
  },
  {
   "cell_type": "markdown",
   "id": "7aacd6bb",
   "metadata": {
    "nbgrader": {
     "grade": false,
     "grade_id": "cell-md-3",
     "locked": false,
     "schema_version": 3,
     "solution": false,
     "task": false
    }
   },
   "source": [
    "Write a function all_but_last(seq) that returns a new squence containing all but the last element of the input sequence. If the input sequence is empty, a new empty sequence of the same type should be returned."
   ]
  },
  {
   "cell_type": "code",
   "execution_count": 37,
   "id": "75658a66",
   "metadata": {
    "deletable": false,
    "nbgrader": {
     "cell_type": "code",
     "checksum": "49695a38c284b14e606fb1382a5d4960",
     "grade": false,
     "grade_id": "cell-solution-4",
     "locked": false,
     "schema_version": 3,
     "solution": true
    }
   },
   "outputs": [],
   "source": [
    "def all_but_last(seq):\n",
    "    return(seq[:-1])"
   ]
  },
  {
   "cell_type": "code",
   "execution_count": 38,
   "id": "a983cdcc",
   "metadata": {
    "deletable": false,
    "editable": false,
    "nbgrader": {
     "cell_type": "code",
     "checksum": "e977b76ab65b3b24ebaef24f972a7479",
     "grade": true,
     "grade_id": "cell-test-4",
     "locked": true,
     "points": 10,
     "schema_version": 3,
     "solution": false
    }
   },
   "outputs": [
    {
     "name": "stdout",
     "output_type": "stream",
     "text": [
      "test passed!\n"
     ]
    }
   ],
   "source": [
    "##########################\n",
    "### TEST YOUR SOLUTION ###\n",
    "##########################\n",
    "\n",
    "# all_but_last test\n",
    "all_but_last_test1 = all_but_last(\"abc\")\n",
    "all_but_last_test2 = all_but_last((1, 2, 3))\n",
    "assert all_but_last_test1 == 'ab'\n",
    "assert all_but_last_test2 == (1, 2)\n",
    "print(\"test passed!\")\n"
   ]
  },
  {
   "cell_type": "markdown",
   "id": "03db5a93",
   "metadata": {
    "nbgrader": {
     "grade": false,
     "grade_id": "cell-md-3",
     "locked": false,
     "schema_version": 3,
     "solution": false,
     "task": false
    }
   },
   "source": [
    "Write a function every_other(seq) that returns a new sequence containing every other element of the input sequence, starting with the first. This function can be written in one line using the optional third parameter of the slice notation."
   ]
  },
  {
   "cell_type": "code",
   "execution_count": 39,
   "id": "f7c3653d",
   "metadata": {
    "deletable": false,
    "nbgrader": {
     "cell_type": "code",
     "checksum": "915a28858c1a83dd4635860c72f09e7e",
     "grade": false,
     "grade_id": "cell-solution-5",
     "locked": false,
     "schema_version": 3,
     "solution": true
    }
   },
   "outputs": [],
   "source": [
    "def every_other(seq):\n",
    "    return(seq[::2]) # take every second element from the sequence starting from index 0!"
   ]
  },
  {
   "cell_type": "code",
   "execution_count": 40,
   "id": "d62b49fc",
   "metadata": {
    "deletable": false,
    "editable": false,
    "nbgrader": {
     "cell_type": "code",
     "checksum": "24f277f7f83b0dcd0a0daa26cbe5c282",
     "grade": true,
     "grade_id": "cell-test-5",
     "locked": true,
     "points": 10,
     "schema_version": 3,
     "solution": false
    }
   },
   "outputs": [
    {
     "name": "stdout",
     "output_type": "stream",
     "text": [
      "test passed!\n"
     ]
    }
   ],
   "source": [
    "##########################\n",
    "### TEST YOUR SOLUTION ###\n",
    "##########################\n",
    "\n",
    "# every_other test\n",
    "every_other_test1 = every_other([1, 2, 3, 4, 5])\n",
    "every_other_test2 = every_other(\"abcde\")\n",
    "assert every_other_test1 == [1, 3, 5]\n",
    "assert every_other_test2 == 'ace'\n",
    "print(\"test passed!\")\n"
   ]
  },
  {
   "cell_type": "markdown",
   "id": "af7a6ee9",
   "metadata": {
    "nbgrader": {
     "grade": false,
     "grade_id": "cell-md-4",
     "locked": false,
     "schema_version": 3,
     "solution": false,
     "task": false
    }
   },
   "source": [
    "## Combinatorial Algorithms\n",
    "\n",
    "The prefixes of a sequence include the empty sequence, the first element, the first two elements, etc., up to and including the full sequence itself.  \n",
    "\n",
    "Write a function prefixes(seq) that yield all prefixes of the input sequence."
   ]
  },
  {
   "cell_type": "code",
   "execution_count": 41,
   "id": "e57faa08",
   "metadata": {
    "deletable": false,
    "nbgrader": {
     "cell_type": "code",
     "checksum": "bfb98956d87a3c8701a0436a491c63f5",
     "grade": false,
     "grade_id": "cell-solution-6",
     "locked": false,
     "schema_version": 3,
     "solution": true
    }
   },
   "outputs": [],
   "source": [
    "############################################################\n",
    "# Section: Combinatorial Algorithms\n",
    "############################################################\n",
    "\n",
    "def prefixes(seq):\n",
    "   for i in range(len(seq)+1):\n",
    "    yield seq[:i]\n"
   ]
  },
  {
   "cell_type": "code",
   "execution_count": 42,
   "id": "39350804",
   "metadata": {
    "deletable": false,
    "editable": false,
    "nbgrader": {
     "cell_type": "code",
     "checksum": "04cc9af046d2bf03445eaecb933bc205",
     "grade": true,
     "grade_id": "cell-test-6",
     "locked": true,
     "points": 10,
     "schema_version": 3,
     "solution": false
    }
   },
   "outputs": [
    {
     "name": "stdout",
     "output_type": "stream",
     "text": [
      "test passed!\n"
     ]
    }
   ],
   "source": [
    "##########################\n",
    "### TEST YOUR SOLUTION ###\n",
    "##########################\n",
    "\n",
    "# prefixes test\n",
    "prefixes_test1 = list(prefixes([1, 2, 3]))\n",
    "prefixes_test2 = list(prefixes(\"abc\"))\n",
    "assert prefixes_test1 == [[], [1], [1, 2], [1, 2, 3]]\n",
    "assert prefixes_test2 == ['', 'a', 'ab', 'abc']\n",
    "print(\"test passed!\")\n"
   ]
  },
  {
   "cell_type": "markdown",
   "id": "ff227cfd",
   "metadata": {
    "nbgrader": {
     "grade": false,
     "grade_id": "cell-md-4",
     "locked": false,
     "schema_version": 3,
     "solution": false,
     "task": false
    }
   },
   "source": [
    "Write a function slices(seq) that yields all non-empty slices of the input sequence."
   ]
  },
  {
   "cell_type": "code",
   "execution_count": 43,
   "id": "e37af91f",
   "metadata": {
    "deletable": false,
    "nbgrader": {
     "cell_type": "code",
     "checksum": "9a506058a87ef3dc4982c0e2e7d35a45",
     "grade": false,
     "grade_id": "cell-solution-7",
     "locked": false,
     "schema_version": 3,
     "solution": true
    }
   },
   "outputs": [],
   "source": [
    "def slices(seq):\n",
    "    for i in range(len(seq)+1):\n",
    "        for j in range(i):\n",
    "            yield seq[j:i]\n"
   ]
  },
  {
   "cell_type": "code",
   "execution_count": 44,
   "id": "e4a59fff",
   "metadata": {
    "deletable": false,
    "editable": false,
    "nbgrader": {
     "cell_type": "code",
     "checksum": "c644961994971aae97f9b7703177b85b",
     "grade": true,
     "grade_id": "cell-test-7",
     "locked": true,
     "points": 10,
     "schema_version": 3,
     "solution": false
    }
   },
   "outputs": [
    {
     "ename": "AssertionError",
     "evalue": "",
     "output_type": "error",
     "traceback": [
      "\u001b[0;31m---------------------------------------------------------------------------\u001b[0m",
      "\u001b[0;31mAssertionError\u001b[0m                            Traceback (most recent call last)",
      "Cell \u001b[0;32mIn[44], line 8\u001b[0m\n\u001b[1;32m      6\u001b[0m slices_test1 \u001b[38;5;241m=\u001b[39m \u001b[38;5;28mlist\u001b[39m(slices([\u001b[38;5;241m1\u001b[39m, \u001b[38;5;241m2\u001b[39m, \u001b[38;5;241m3\u001b[39m]))\n\u001b[1;32m      7\u001b[0m slices_test2 \u001b[38;5;241m=\u001b[39m \u001b[38;5;28mlist\u001b[39m(slices(\u001b[38;5;124m\"\u001b[39m\u001b[38;5;124mabc\u001b[39m\u001b[38;5;124m\"\u001b[39m)) \n\u001b[0;32m----> 8\u001b[0m \u001b[38;5;28;01massert\u001b[39;00m slices_test1 \u001b[38;5;241m==\u001b[39m [[\u001b[38;5;241m1\u001b[39m], [\u001b[38;5;241m1\u001b[39m, \u001b[38;5;241m2\u001b[39m], [\u001b[38;5;241m1\u001b[39m, \u001b[38;5;241m2\u001b[39m, \u001b[38;5;241m3\u001b[39m], [\u001b[38;5;241m2\u001b[39m], [\u001b[38;5;241m2\u001b[39m, \u001b[38;5;241m3\u001b[39m], [\u001b[38;5;241m3\u001b[39m]]\n\u001b[1;32m      9\u001b[0m \u001b[38;5;28;01massert\u001b[39;00m slices_test2 \u001b[38;5;241m==\u001b[39m [\u001b[38;5;124m'\u001b[39m\u001b[38;5;124ma\u001b[39m\u001b[38;5;124m'\u001b[39m, \u001b[38;5;124m'\u001b[39m\u001b[38;5;124mab\u001b[39m\u001b[38;5;124m'\u001b[39m, \u001b[38;5;124m'\u001b[39m\u001b[38;5;124mabc\u001b[39m\u001b[38;5;124m'\u001b[39m, \u001b[38;5;124m'\u001b[39m\u001b[38;5;124mb\u001b[39m\u001b[38;5;124m'\u001b[39m, \u001b[38;5;124m'\u001b[39m\u001b[38;5;124mbc\u001b[39m\u001b[38;5;124m'\u001b[39m, \u001b[38;5;124m'\u001b[39m\u001b[38;5;124mc\u001b[39m\u001b[38;5;124m'\u001b[39m]\n\u001b[1;32m     10\u001b[0m \u001b[38;5;28mprint\u001b[39m(\u001b[38;5;124m\"\u001b[39m\u001b[38;5;124mtest passed!\u001b[39m\u001b[38;5;124m\"\u001b[39m)\n",
      "\u001b[0;31mAssertionError\u001b[0m: "
     ]
    }
   ],
   "source": [
    "##########################\n",
    "### TEST YOUR SOLUTION ###\n",
    "##########################\n",
    "\n",
    "# slices test\n",
    "slices_test1 = list(slices([1, 2, 3]))\n",
    "slices_test2 = list(slices(\"abc\")) \n",
    "assert slices_test1 == [[1], [1, 2], [1, 2, 3], [2], [2, 3], [3]]\n",
    "assert slices_test2 == ['a', 'ab', 'abc', 'b', 'bc', 'c']\n",
    "print(\"test passed!\")\n"
   ]
  },
  {
   "cell_type": "markdown",
   "id": "d77e0747",
   "metadata": {
    "nbgrader": {
     "grade": false,
     "grade_id": "cell-md-5",
     "locked": false,
     "schema_version": 3,
     "solution": false,
     "task": false
    }
   },
   "source": [
    "## Text Processing\n",
    "\n",
    "A common preprocessing step in many natural language processing tasks is text normalization, wherein words are converted to lowercase, extraneous whitespace is removed, etc. \n",
    "\n",
    "Write a function normalize(text) that returns a normalized version of the input string, in which all words have been converted to lowercase and are separated by a single space. No leading or trailing whitespace should be present in the output."
   ]
  },
  {
   "cell_type": "code",
   "execution_count": 45,
   "id": "5713df2d",
   "metadata": {
    "deletable": false,
    "nbgrader": {
     "cell_type": "code",
     "checksum": "504b032e71eba77bf3be6fb93990b2e3",
     "grade": false,
     "grade_id": "cell-solution-8",
     "locked": false,
     "schema_version": 3,
     "solution": true
    }
   },
   "outputs": [],
   "source": [
    "############################################################\n",
    "# Section: Text Processing\n",
    "############################################################\n",
    "\n",
    "def normalize(text):\n",
    "   return(' '.join(text.lower().split()))"
   ]
  },
  {
   "cell_type": "code",
   "execution_count": 46,
   "id": "c87797fe",
   "metadata": {
    "deletable": false,
    "editable": false,
    "nbgrader": {
     "cell_type": "code",
     "checksum": "e7b9f8a01076b6de32fc5afdcf549311",
     "grade": true,
     "grade_id": "cell-test-8",
     "locked": true,
     "points": 10,
     "schema_version": 3,
     "solution": false
    }
   },
   "outputs": [
    {
     "name": "stdout",
     "output_type": "stream",
     "text": [
      "test passed!\n"
     ]
    }
   ],
   "source": [
    "##########################\n",
    "### TEST YOUR SOLUTION ###\n",
    "##########################\n",
    "\n",
    "# normalize test\n",
    "normalize_test1 = normalize(\"This is an example.\")\n",
    "normalize_test2 = normalize(\" EXTRA SPACE \")\n",
    "assert normalize_test1 == \"this is an example.\"\n",
    "assert normalize_test2 == \"extra space\"\n",
    "print(\"test passed!\")\n"
   ]
  },
  {
   "cell_type": "markdown",
   "id": "571a1298",
   "metadata": {
    "nbgrader": {
     "grade": false,
     "grade_id": "cell-md-5",
     "locked": false,
     "schema_version": 3,
     "solution": false,
     "task": false
    }
   },
   "source": [
    "Write a function digits_to_words(text) that extracts all digits from the input string, spells them out as lowercase English words, and returns a new string in which they are each separated by a single space. If the input string contains no digits, then an empty string should be returned."
   ]
  },
  {
   "cell_type": "code",
   "execution_count": 47,
   "id": "c7c5b2d1",
   "metadata": {
    "deletable": false,
    "nbgrader": {
     "cell_type": "code",
     "checksum": "c218abf1e0c3540ecdbbd8e2405e1483",
     "grade": false,
     "grade_id": "cell-solution-9",
     "locked": false,
     "schema_version": 3,
     "solution": true
    }
   },
   "outputs": [],
   "source": [
    "def digits_to_words(text):\n",
    "   words_for_digits = {\n",
    "       '0':'zero',\n",
    "       '1':'one',\n",
    "       '2':'two',\n",
    "       '3':'three',\n",
    "       '4':'four',\n",
    "       '5':'five',\n",
    "       '6':'six',\n",
    "       '7':'seven',\n",
    "       '8':'eight',\n",
    "       '9':'nine'\n",
    "   }\n",
    "   words = []\n",
    "   for w in text:\n",
    "        if w.isdigit():\n",
    "            words.append(words_for_digits[w])\n",
    "            \n",
    "   output = ' '.join(words)\n",
    "   #print(output)\n",
    "   return output\n",
    "   "
   ]
  },
  {
   "cell_type": "code",
   "execution_count": 48,
   "id": "cd585cb0",
   "metadata": {
    "deletable": false,
    "editable": false,
    "nbgrader": {
     "cell_type": "code",
     "checksum": "273bfb52372bd28d9374057ee076323f",
     "grade": true,
     "grade_id": "cell-test-9",
     "locked": true,
     "points": 10,
     "schema_version": 3,
     "solution": false
    }
   },
   "outputs": [
    {
     "name": "stdout",
     "output_type": "stream",
     "text": [
      "test passed!\n"
     ]
    }
   ],
   "source": [
    "##########################\n",
    "### TEST YOUR SOLUTION ###\n",
    "##########################\n",
    "\n",
    "# digits_to_words test\n",
    "digits_to_words_test1 = digits_to_words(\"Zip Code: 19104\")\n",
    "digits_to_words_test2 = digits_to_words(\"Pi is 3.1415...\")\n",
    "assert digits_to_words_test1 == \"one nine one zero four\"\n",
    "assert digits_to_words_test2 == \"three one four one five\"\n",
    "print(\"test passed!\")\n"
   ]
  },
  {
   "cell_type": "code",
   "execution_count": 49,
   "id": "2da617de",
   "metadata": {
    "deletable": false,
    "nbgrader": {
     "cell_type": "code",
     "checksum": "603ba32a450eb64a4bcaa4f547696713",
     "grade": false,
     "grade_id": "cell-solution-10",
     "locked": false,
     "schema_version": 3,
     "solution": true
    }
   },
   "outputs": [],
   "source": [
    "# your code here\n"
   ]
  },
  {
   "cell_type": "markdown",
   "id": "d5158dc6",
   "metadata": {
    "nbgrader": {
     "grade": false,
     "grade_id": "cell-md-6",
     "locked": false,
     "schema_version": 3,
     "solution": false,
     "task": false
    }
   },
   "source": [
    "## Python Packages\n",
    "\n",
    "Install numpy first:"
   ]
  },
  {
   "cell_type": "code",
   "execution_count": 50,
   "id": "3442e000",
   "metadata": {
    "deletable": false,
    "nbgrader": {
     "cell_type": "code",
     "checksum": "469c2ad1af9bd1ce81acc7cb575ca93b",
     "grade": false,
     "grade_id": "cell-solution-11",
     "locked": false,
     "schema_version": 3,
     "solution": true
    }
   },
   "outputs": [],
   "source": [
    "# your code here\n",
    "import numpy as np"
   ]
  },
  {
   "cell_type": "markdown",
   "id": "88fe11c2",
   "metadata": {
    "nbgrader": {
     "grade": false,
     "grade_id": "cell-md-6",
     "locked": false,
     "schema_version": 3,
     "solution": false,
     "task": false
    }
   },
   "source": [
    "\n",
    "Use numpy package to implement the sort_array(list_of_matrics) which takes in a list of matrices with various dimensions and return a sorted 1D array with decreasing order contains all the values in these matrices. The data type of the returned array is int."
   ]
  },
  {
   "cell_type": "code",
   "execution_count": 51,
   "id": "516de5c5",
   "metadata": {
    "deletable": false,
    "nbgrader": {
     "cell_type": "code",
     "checksum": "12d47940bb47f170a11db614a40c8f1c",
     "grade": false,
     "grade_id": "cell-solution-13",
     "locked": false,
     "schema_version": 3,
     "solution": true
    }
   },
   "outputs": [],
   "source": [
    "############################################################\n",
    "# Section: Python Packages\n",
    "############################################################\n",
    "import numpy as np\n",
    "def sort_array(list_of_matrices):\n",
    "   m1 = np.concatenate([m.flatten() for m in list_of_matrices])\n",
    "   #print(np.sort(m1)[::-1]) # for descending order sorting, reverse the order!!\n",
    "   return np.sort(m1)[::-1]"
   ]
  },
  {
   "cell_type": "code",
   "execution_count": 52,
   "id": "8e30ba13",
   "metadata": {
    "deletable": false,
    "editable": false,
    "nbgrader": {
     "cell_type": "code",
     "checksum": "b6d421ca4dea1a29941e1cb2d51ffed5",
     "grade": true,
     "grade_id": "cell-test-13",
     "locked": true,
     "points": 5,
     "schema_version": 3,
     "solution": false
    }
   },
   "outputs": [
    {
     "name": "stdout",
     "output_type": "stream",
     "text": [
      "test passed!\n"
     ]
    }
   ],
   "source": [
    "##########################\n",
    "### TEST YOUR SOLUTION ###\n",
    "##########################\n",
    "\n",
    "# sort_array test\n",
    "from numpy.testing import assert_array_equal\n",
    "matrix1 = np.array([[1, 2], [3, 4]])\n",
    "matrix2 = np.array([[5, 6, 7], [7, 8, 9], [0, -1, -2]])\n",
    "sort_array_test = sort_array([matrix1, matrix2])\n",
    "\n",
    "expected_result = np.array([9, 8, 7, 7, 6, 5, 4, 3, 2, 1, 0, -1, -2])\n",
    "assert_array_equal(sort_array_test, expected_result)\n",
    "\n",
    "print(\"test passed!\")\n",
    "\n"
   ]
  },
  {
   "cell_type": "code",
   "execution_count": 53,
   "id": "28c43f5d",
   "metadata": {
    "deletable": false,
    "nbgrader": {
     "cell_type": "code",
     "checksum": "3f595125e7edef209534b08f2d03459d",
     "grade": false,
     "grade_id": "cell-solution-14",
     "locked": false,
     "schema_version": 3,
     "solution": true
    }
   },
   "outputs": [
    {
     "ename": "SyntaxError",
     "evalue": "invalid syntax (2747489415.py, line 2)",
     "output_type": "error",
     "traceback": [
      "\u001b[0;36m  Cell \u001b[0;32mIn[53], line 2\u001b[0;36m\u001b[0m\n\u001b[0;31m    pip install nltk\u001b[0m\n\u001b[0m        ^\u001b[0m\n\u001b[0;31mSyntaxError\u001b[0m\u001b[0;31m:\u001b[0m invalid syntax\n"
     ]
    }
   ],
   "source": [
    "# your code here\n",
    "pip install nltk"
   ]
  },
  {
   "cell_type": "code",
   "execution_count": 54,
   "id": "0ef253fd",
   "metadata": {
    "deletable": false,
    "nbgrader": {
     "cell_type": "code",
     "checksum": "d7a120c3e5712096665f1472d63a7d57",
     "grade": false,
     "grade_id": "cell-solution-15",
     "locked": false,
     "schema_version": 3,
     "solution": true
    }
   },
   "outputs": [
    {
     "ename": "ModuleNotFoundError",
     "evalue": "No module named 'nltk'",
     "output_type": "error",
     "traceback": [
      "\u001b[0;31m---------------------------------------------------------------------------\u001b[0m",
      "\u001b[0;31mModuleNotFoundError\u001b[0m                       Traceback (most recent call last)",
      "Cell \u001b[0;32mIn[54], line 1\u001b[0m\n\u001b[0;32m----> 1\u001b[0m \u001b[38;5;28;01mimport\u001b[39;00m \u001b[38;5;21;01mnltk\u001b[39;00m\n\u001b[1;32m      2\u001b[0m nltk\u001b[38;5;241m.\u001b[39mdownload(\u001b[38;5;124m'\u001b[39m\u001b[38;5;124mpunkt\u001b[39m\u001b[38;5;124m'\u001b[39m)\n\u001b[1;32m      3\u001b[0m nltk\u001b[38;5;241m.\u001b[39mdownload(\u001b[38;5;124m'\u001b[39m\u001b[38;5;124mpunkt_tab\u001b[39m\u001b[38;5;124m'\u001b[39m)\n",
      "\u001b[0;31mModuleNotFoundError\u001b[0m: No module named 'nltk'"
     ]
    }
   ],
   "source": [
    "import nltk\n",
    "nltk.download('punkt')\n",
    "nltk.download('punkt_tab')\n",
    "nltk.download('stopwords')\n",
    "nltk.download('averaged_perceptron_tagger')"
   ]
  },
  {
   "cell_type": "markdown",
   "id": "211b17f2",
   "metadata": {
    "nbgrader": {
     "grade": false,
     "grade_id": "cell-md-6",
     "locked": false,
     "schema_version": 3,
     "solution": false,
     "task": false
    }
   },
   "source": [
    "\n",
    "Implement the POS_tag(sentence) function which takes in a string and return the Part-of-Speech(POS) tag of each word in the sentence. To complete this task, you need to fulfill the requirements shown below:\n",
    "1) Convert all the characters in the sentence to lower case. \n",
    "2) Tokenize the sentence.\n",
    "3) Remove the stop words and punctuation.\n",
    "4) Conduct the pos tagging and return a list of tuples.\n"
   ]
  },
  {
   "cell_type": "code",
   "execution_count": 36,
   "id": "41e6b20f",
   "metadata": {
    "deletable": false,
    "nbgrader": {
     "cell_type": "code",
     "checksum": "3538b0e3c1ce55bd1e9293715ca52930",
     "grade": false,
     "grade_id": "cell-solution-16",
     "locked": false,
     "schema_version": 3,
     "solution": true
    }
   },
   "outputs": [],
   "source": [
    "import nltk\n",
    "from nltk.tokenize import word_tokenize\n",
    "from nltk.corpus import stopwords\n",
    "from nltk import pos_tag\n",
    "\n",
    "#nltk.download('stopwords')\n",
    "\n",
    "def POS_tag(sentence):\n",
    "    lower_s = sentence.lower()  # Convert all the characters in the sentence to lower case.\n",
    "    tokens  = word_tokenize(lower_s) # Tokenize the sentence\n",
    "    #print(tokens)   \n",
    "\n",
    "    #Remove the stop words and punctuation.\n",
    "    stop_words = set(stopwords.words('english'))\n",
    "    stop_words.update(['the','will','be','with','you.', '.'])\n",
    "\n",
    "    #Conduct the pos tagging and return a list of tuples.\n",
    "    tokens_list = [tok for tok in tokens if tok not in stop_words]    \n",
    "    pos_tags = pos_tag(tokens_list)\n",
    "   \n",
    "    return pos_tags"
   ]
  },
  {
   "cell_type": "code",
   "execution_count": 37,
   "id": "e4005f52",
   "metadata": {
    "deletable": false,
    "editable": false,
    "nbgrader": {
     "cell_type": "code",
     "checksum": "bf7f424a816a6c3ec6f907a317c3964f",
     "grade": true,
     "grade_id": "cell-test-16",
     "locked": true,
     "points": 5,
     "schema_version": 3,
     "solution": false
    }
   },
   "outputs": [
    {
     "ename": "LookupError",
     "evalue": "\n**********************************************************************\n  Resource \u001b[93maveraged_perceptron_tagger_eng\u001b[0m not found.\n  Please use the NLTK Downloader to obtain the resource:\n\n  \u001b[31m>>> import nltk\n  >>> nltk.download('averaged_perceptron_tagger_eng')\n  \u001b[0m\n  For more information see: https://www.nltk.org/data.html\n\n  Attempted to load \u001b[93mtaggers/averaged_perceptron_tagger_eng/\u001b[0m\n\n  Searched in:\n    - '/home/jovyan/nltk_data'\n    - '/opt/conda/nltk_data'\n    - '/opt/conda/share/nltk_data'\n    - '/opt/conda/lib/nltk_data'\n    - '/usr/share/nltk_data'\n    - '/usr/local/share/nltk_data'\n    - '/usr/lib/nltk_data'\n    - '/usr/local/lib/nltk_data'\n**********************************************************************\n",
     "output_type": "error",
     "traceback": [
      "\u001b[0;31m---------------------------------------------------------------------------\u001b[0m",
      "\u001b[0;31mLookupError\u001b[0m                               Traceback (most recent call last)",
      "Cell \u001b[0;32mIn[37], line 7\u001b[0m\n\u001b[1;32m      1\u001b[0m \u001b[38;5;66;03m##########################\u001b[39;00m\n\u001b[1;32m      2\u001b[0m \u001b[38;5;66;03m### TEST YOUR SOLUTION ###\u001b[39;00m\n\u001b[1;32m      3\u001b[0m \u001b[38;5;66;03m##########################\u001b[39;00m\n\u001b[1;32m      4\u001b[0m \n\u001b[1;32m      5\u001b[0m \u001b[38;5;66;03m# POS_tag test\u001b[39;00m\n\u001b[1;32m      6\u001b[0m sentence \u001b[38;5;241m=\u001b[39m \u001b[38;5;124m'\u001b[39m\u001b[38;5;124mThe Force will be with you. Always.\u001b[39m\u001b[38;5;124m'\u001b[39m\n\u001b[0;32m----> 7\u001b[0m POS_tag_test \u001b[38;5;241m=\u001b[39m \u001b[43mPOS_tag\u001b[49m\u001b[43m(\u001b[49m\u001b[43msentence\u001b[49m\u001b[43m)\u001b[49m\n\u001b[1;32m      8\u001b[0m \u001b[38;5;28;01massert\u001b[39;00m POS_tag_test \u001b[38;5;241m==\u001b[39m [(\u001b[38;5;124m'\u001b[39m\u001b[38;5;124mforce\u001b[39m\u001b[38;5;124m'\u001b[39m, \u001b[38;5;124m'\u001b[39m\u001b[38;5;124mNN\u001b[39m\u001b[38;5;124m'\u001b[39m), (\u001b[38;5;124m'\u001b[39m\u001b[38;5;124malways\u001b[39m\u001b[38;5;124m'\u001b[39m, \u001b[38;5;124m'\u001b[39m\u001b[38;5;124mRB\u001b[39m\u001b[38;5;124m'\u001b[39m)]\n\u001b[1;32m      9\u001b[0m \u001b[38;5;28mprint\u001b[39m(\u001b[38;5;124m\"\u001b[39m\u001b[38;5;124mtest passed!\u001b[39m\u001b[38;5;124m\"\u001b[39m)\n",
      "Cell \u001b[0;32mIn[36], line 19\u001b[0m, in \u001b[0;36mPOS_tag\u001b[0;34m(sentence)\u001b[0m\n\u001b[1;32m     17\u001b[0m \u001b[38;5;66;03m#Conduct the pos tagging and return a list of tuples.\u001b[39;00m\n\u001b[1;32m     18\u001b[0m tokens_list \u001b[38;5;241m=\u001b[39m [tok \u001b[38;5;28;01mfor\u001b[39;00m tok \u001b[38;5;129;01min\u001b[39;00m tokens \u001b[38;5;28;01mif\u001b[39;00m tok \u001b[38;5;129;01mnot\u001b[39;00m \u001b[38;5;129;01min\u001b[39;00m stop_words]    \n\u001b[0;32m---> 19\u001b[0m pos_tags \u001b[38;5;241m=\u001b[39m \u001b[43mpos_tag\u001b[49m\u001b[43m(\u001b[49m\u001b[43mtokens_list\u001b[49m\u001b[43m)\u001b[49m\n\u001b[1;32m     21\u001b[0m \u001b[38;5;28;01mreturn\u001b[39;00m pos_tags\n",
      "File \u001b[0;32m/opt/conda/lib/python3.10/site-packages/nltk/tag/__init__.py:168\u001b[0m, in \u001b[0;36mpos_tag\u001b[0;34m(tokens, tagset, lang)\u001b[0m\n\u001b[1;32m    143\u001b[0m \u001b[38;5;28;01mdef\u001b[39;00m \u001b[38;5;21mpos_tag\u001b[39m(tokens, tagset\u001b[38;5;241m=\u001b[39m\u001b[38;5;28;01mNone\u001b[39;00m, lang\u001b[38;5;241m=\u001b[39m\u001b[38;5;124m\"\u001b[39m\u001b[38;5;124meng\u001b[39m\u001b[38;5;124m\"\u001b[39m):\n\u001b[1;32m    144\u001b[0m     \u001b[38;5;124;03m\"\"\"\u001b[39;00m\n\u001b[1;32m    145\u001b[0m \u001b[38;5;124;03m    Use NLTK's currently recommended part of speech tagger to\u001b[39;00m\n\u001b[1;32m    146\u001b[0m \u001b[38;5;124;03m    tag the given list of tokens.\u001b[39;00m\n\u001b[0;32m   (...)\u001b[0m\n\u001b[1;32m    166\u001b[0m \u001b[38;5;124;03m    :rtype: list(tuple(str, str))\u001b[39;00m\n\u001b[1;32m    167\u001b[0m \u001b[38;5;124;03m    \"\"\"\u001b[39;00m\n\u001b[0;32m--> 168\u001b[0m     tagger \u001b[38;5;241m=\u001b[39m \u001b[43m_get_tagger\u001b[49m\u001b[43m(\u001b[49m\u001b[43mlang\u001b[49m\u001b[43m)\u001b[49m\n\u001b[1;32m    169\u001b[0m     \u001b[38;5;28;01mreturn\u001b[39;00m _pos_tag(tokens, tagset, tagger, lang)\n",
      "File \u001b[0;32m/opt/conda/lib/python3.10/site-packages/nltk/tag/__init__.py:110\u001b[0m, in \u001b[0;36m_get_tagger\u001b[0;34m(lang)\u001b[0m\n\u001b[1;32m    108\u001b[0m     tagger \u001b[38;5;241m=\u001b[39m PerceptronTagger(lang\u001b[38;5;241m=\u001b[39mlang)\n\u001b[1;32m    109\u001b[0m \u001b[38;5;28;01melse\u001b[39;00m:\n\u001b[0;32m--> 110\u001b[0m     tagger \u001b[38;5;241m=\u001b[39m \u001b[43mPerceptronTagger\u001b[49m\u001b[43m(\u001b[49m\u001b[43m)\u001b[49m\n\u001b[1;32m    111\u001b[0m \u001b[38;5;28;01mreturn\u001b[39;00m tagger\n",
      "File \u001b[0;32m/opt/conda/lib/python3.10/site-packages/nltk/tag/perceptron.py:183\u001b[0m, in \u001b[0;36mPerceptronTagger.__init__\u001b[0;34m(self, load, lang)\u001b[0m\n\u001b[1;32m    181\u001b[0m \u001b[38;5;28mself\u001b[39m\u001b[38;5;241m.\u001b[39mclasses \u001b[38;5;241m=\u001b[39m \u001b[38;5;28mset\u001b[39m()\n\u001b[1;32m    182\u001b[0m \u001b[38;5;28;01mif\u001b[39;00m load:\n\u001b[0;32m--> 183\u001b[0m     \u001b[38;5;28;43mself\u001b[39;49m\u001b[38;5;241;43m.\u001b[39;49m\u001b[43mload_from_json\u001b[49m\u001b[43m(\u001b[49m\u001b[43mlang\u001b[49m\u001b[43m)\u001b[49m\n",
      "File \u001b[0;32m/opt/conda/lib/python3.10/site-packages/nltk/tag/perceptron.py:273\u001b[0m, in \u001b[0;36mPerceptronTagger.load_from_json\u001b[0;34m(self, lang)\u001b[0m\n\u001b[1;32m    271\u001b[0m \u001b[38;5;28;01mdef\u001b[39;00m \u001b[38;5;21mload_from_json\u001b[39m(\u001b[38;5;28mself\u001b[39m, lang\u001b[38;5;241m=\u001b[39m\u001b[38;5;124m\"\u001b[39m\u001b[38;5;124meng\u001b[39m\u001b[38;5;124m\"\u001b[39m):\n\u001b[1;32m    272\u001b[0m     \u001b[38;5;66;03m# Automatically find path to the tagger if location is not specified.\u001b[39;00m\n\u001b[0;32m--> 273\u001b[0m     loc \u001b[38;5;241m=\u001b[39m \u001b[43mfind\u001b[49m\u001b[43m(\u001b[49m\u001b[38;5;124;43mf\u001b[39;49m\u001b[38;5;124;43m\"\u001b[39;49m\u001b[38;5;124;43mtaggers/averaged_perceptron_tagger_\u001b[39;49m\u001b[38;5;132;43;01m{\u001b[39;49;00m\u001b[43mlang\u001b[49m\u001b[38;5;132;43;01m}\u001b[39;49;00m\u001b[38;5;124;43m/\u001b[39;49m\u001b[38;5;124;43m\"\u001b[39;49m\u001b[43m)\u001b[49m\n\u001b[1;32m    274\u001b[0m     \u001b[38;5;28;01mwith\u001b[39;00m \u001b[38;5;28mopen\u001b[39m(loc \u001b[38;5;241m+\u001b[39m TAGGER_JSONS[lang][\u001b[38;5;124m\"\u001b[39m\u001b[38;5;124mweights\u001b[39m\u001b[38;5;124m\"\u001b[39m]) \u001b[38;5;28;01mas\u001b[39;00m fin:\n\u001b[1;32m    275\u001b[0m         \u001b[38;5;28mself\u001b[39m\u001b[38;5;241m.\u001b[39mmodel\u001b[38;5;241m.\u001b[39mweights \u001b[38;5;241m=\u001b[39m json\u001b[38;5;241m.\u001b[39mload(fin)\n",
      "File \u001b[0;32m/opt/conda/lib/python3.10/site-packages/nltk/data.py:579\u001b[0m, in \u001b[0;36mfind\u001b[0;34m(resource_name, paths)\u001b[0m\n\u001b[1;32m    577\u001b[0m sep \u001b[38;5;241m=\u001b[39m \u001b[38;5;124m\"\u001b[39m\u001b[38;5;124m*\u001b[39m\u001b[38;5;124m\"\u001b[39m \u001b[38;5;241m*\u001b[39m \u001b[38;5;241m70\u001b[39m\n\u001b[1;32m    578\u001b[0m resource_not_found \u001b[38;5;241m=\u001b[39m \u001b[38;5;124mf\u001b[39m\u001b[38;5;124m\"\u001b[39m\u001b[38;5;130;01m\\n\u001b[39;00m\u001b[38;5;132;01m{\u001b[39;00msep\u001b[38;5;132;01m}\u001b[39;00m\u001b[38;5;130;01m\\n\u001b[39;00m\u001b[38;5;132;01m{\u001b[39;00mmsg\u001b[38;5;132;01m}\u001b[39;00m\u001b[38;5;130;01m\\n\u001b[39;00m\u001b[38;5;132;01m{\u001b[39;00msep\u001b[38;5;132;01m}\u001b[39;00m\u001b[38;5;130;01m\\n\u001b[39;00m\u001b[38;5;124m\"\u001b[39m\n\u001b[0;32m--> 579\u001b[0m \u001b[38;5;28;01mraise\u001b[39;00m \u001b[38;5;167;01mLookupError\u001b[39;00m(resource_not_found)\n",
      "\u001b[0;31mLookupError\u001b[0m: \n**********************************************************************\n  Resource \u001b[93maveraged_perceptron_tagger_eng\u001b[0m not found.\n  Please use the NLTK Downloader to obtain the resource:\n\n  \u001b[31m>>> import nltk\n  >>> nltk.download('averaged_perceptron_tagger_eng')\n  \u001b[0m\n  For more information see: https://www.nltk.org/data.html\n\n  Attempted to load \u001b[93mtaggers/averaged_perceptron_tagger_eng/\u001b[0m\n\n  Searched in:\n    - '/home/jovyan/nltk_data'\n    - '/opt/conda/nltk_data'\n    - '/opt/conda/share/nltk_data'\n    - '/opt/conda/lib/nltk_data'\n    - '/usr/share/nltk_data'\n    - '/usr/local/share/nltk_data'\n    - '/usr/lib/nltk_data'\n    - '/usr/local/lib/nltk_data'\n**********************************************************************\n"
     ]
    }
   ],
   "source": [
    "##########################\n",
    "### TEST YOUR SOLUTION ###\n",
    "##########################\n",
    "\n",
    "# POS_tag test\n",
    "sentence = 'The Force will be with you. Always.'\n",
    "POS_tag_test = POS_tag(sentence)\n",
    "assert POS_tag_test == [('force', 'NN'), ('always', 'RB')]\n",
    "print(\"test passed!\")\n"
   ]
  },
  {
   "cell_type": "code",
   "execution_count": null,
   "id": "b10bd13a",
   "metadata": {},
   "outputs": [],
   "source": []
  },
  {
   "cell_type": "code",
   "execution_count": null,
   "id": "563f3f80",
   "metadata": {},
   "outputs": [],
   "source": []
  }
 ],
 "metadata": {
  "kernelspec": {
   "display_name": "Python 3 (ipykernel)",
   "language": "python",
   "name": "python3"
  },
  "language_info": {
   "codemirror_mode": {
    "name": "ipython",
    "version": 3
   },
   "file_extension": ".py",
   "mimetype": "text/x-python",
   "name": "python",
   "nbconvert_exporter": "python",
   "pygments_lexer": "ipython3",
   "version": "3.10.6"
  }
 },
 "nbformat": 4,
 "nbformat_minor": 5
}
