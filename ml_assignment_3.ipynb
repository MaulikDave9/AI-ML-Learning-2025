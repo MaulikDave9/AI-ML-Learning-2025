{
 "cells": [
  {
   "cell_type": "markdown",
   "id": "61d2211e",
   "metadata": {
    "deletable": false,
    "editable": false,
    "nbgrader": {
     "cell_type": "markdown",
     "checksum": "419df037d8aa3af5acb094e2c02c0dad",
     "grade": false,
     "grade_id": "cell-md-1",
     "locked": true,
     "schema_version": 3,
     "solution": false,
     "task": false
    }
   },
   "source": [
    "# Assignment 3"
   ]
  },
  {
   "cell_type": "markdown",
   "id": "f9f70e57",
   "metadata": {
    "deletable": false,
    "editable": false,
    "nbgrader": {
     "cell_type": "markdown",
     "checksum": "363f0a092469ab08663e7ae1db9847b3",
     "grade": false,
     "grade_id": "cell-md-2",
     "locked": true,
     "schema_version": 3,
     "solution": false,
     "task": false
    }
   },
   "source": [
    "## Imports\n",
    "It is important for all (or most) imports to go on the top of a notebook so that other users know which packages need to be installed. In projects that use Anaconda, it is also common to see a file named requirements.txt listing all the packages that one has to install.\n",
    "\n",
    "First, let's import all the necessary modules using the import function. For this exercise, we will continue to use pandas, numpy, and matplotlib. We will also be uisng statsmodels to conduct statistical analysis. \n",
    "\n",
    "To learn more about these packages, you can read through the documentation:  \n",
    "https://pandas.pydata.org/  \n",
    "https://numpy.org/  \n",
    "https://matplotlib.org/  \n",
    "https://www.statsmodels.org/stable/index.html  "
   ]
  },
  {
   "cell_type": "code",
   "execution_count": 96,
   "id": "2712fe97",
   "metadata": {
    "deletable": false,
    "editable": false,
    "nbgrader": {
     "cell_type": "code",
     "checksum": "c0b30a8d341586ed37e7f5ed5611fa14",
     "grade": false,
     "grade_id": "cell-59464e37b95dcc77",
     "locked": true,
     "schema_version": 3,
     "solution": false,
     "task": false
    }
   },
   "outputs": [],
   "source": [
    "# Let's import the relevant Python packages here\n",
    "# Feel free to import any other packages for this project\n",
    "\n",
    "# Data Wrangling\n",
    "import pandas as pd\n",
    "import numpy as np\n",
    "\n",
    "# Statistics\n",
    "import statsmodels.formula.api as smf\n",
    "import statsmodels.api as sm\n",
    "\n",
    "# Plotting\n",
    "import matplotlib.pyplot as plt\n",
    "\n",
    "%matplotlib inline"
   ]
  },
  {
   "cell_type": "markdown",
   "id": "31c435b5",
   "metadata": {
    "deletable": false,
    "editable": false,
    "nbgrader": {
     "cell_type": "markdown",
     "checksum": "f4347902c12484691fa8951b63402991",
     "grade": false,
     "grade_id": "cell-md-3",
     "locked": true,
     "schema_version": 3,
     "solution": false,
     "task": false
    }
   },
   "source": [
    "## Data\n",
    "This dataset contains 1,089 weekly stock market percentage returns for 21 years, from the beginning of 1990 to the end of 2010.\n",
    "\n",
    "| Column | Description |\n",
    "|:-|:-|\n",
    "|Year | The year that the observation was recorded|\n",
    "|Lag1 | Percentage return for the previous week|\n",
    "|Lag2 | Percentage return for the previous 2 weeks|\n",
    "|Lag3 | Percentage return for the previous 3 weeks|\n",
    "|Lag4 | Percentage return for the previous 4 weeks|\n",
    "|Lag5 | Percentage return for the previous 5 weeks|\n",
    "|Volume | Volume of shares traded (average number of daily shares traded in billions)|\n",
    "|Today | Percentage return for this week|\n",
    "|Direction | A factor with levels Down and Up indicating whether the market had a positive or negative return on a given week|"
   ]
  },
  {
   "cell_type": "markdown",
   "id": "60a187f2",
   "metadata": {
    "deletable": false,
    "editable": false,
    "nbgrader": {
     "cell_type": "markdown",
     "checksum": "b59feed926cca13a84cf0964f5463ed0",
     "grade": false,
     "grade_id": "cell-f6355dfcf3c2cccf",
     "locked": true,
     "schema_version": 3,
     "solution": false,
     "task": false
    }
   },
   "source": [
    "Once again, we will begin by loading the dataset using pandas"
   ]
  },
  {
   "cell_type": "code",
   "execution_count": 97,
   "id": "0ac91382",
   "metadata": {
    "deletable": false,
    "editable": false,
    "nbgrader": {
     "cell_type": "code",
     "checksum": "1979d46694d8022b06d3cbc2b08bf271",
     "grade": false,
     "grade_id": "cell-703b82f754f5a0a2",
     "locked": true,
     "schema_version": 3,
     "solution": false,
     "task": false
    }
   },
   "outputs": [
    {
     "data": {
      "text/html": [
       "<div>\n",
       "<style scoped>\n",
       "    .dataframe tbody tr th:only-of-type {\n",
       "        vertical-align: middle;\n",
       "    }\n",
       "\n",
       "    .dataframe tbody tr th {\n",
       "        vertical-align: top;\n",
       "    }\n",
       "\n",
       "    .dataframe thead th {\n",
       "        text-align: right;\n",
       "    }\n",
       "</style>\n",
       "<table border=\"1\" class=\"dataframe\">\n",
       "  <thead>\n",
       "    <tr style=\"text-align: right;\">\n",
       "      <th></th>\n",
       "      <th>Year</th>\n",
       "      <th>Lag1</th>\n",
       "      <th>Lag2</th>\n",
       "      <th>Lag3</th>\n",
       "      <th>Lag4</th>\n",
       "      <th>Lag5</th>\n",
       "      <th>Volume</th>\n",
       "      <th>Today</th>\n",
       "      <th>Direction</th>\n",
       "    </tr>\n",
       "  </thead>\n",
       "  <tbody>\n",
       "    <tr>\n",
       "      <th>0</th>\n",
       "      <td>1990</td>\n",
       "      <td>0.816</td>\n",
       "      <td>1.572</td>\n",
       "      <td>-3.936</td>\n",
       "      <td>-0.229</td>\n",
       "      <td>-3.484</td>\n",
       "      <td>0.154976</td>\n",
       "      <td>-0.270</td>\n",
       "      <td>Down</td>\n",
       "    </tr>\n",
       "    <tr>\n",
       "      <th>1</th>\n",
       "      <td>1990</td>\n",
       "      <td>-0.270</td>\n",
       "      <td>0.816</td>\n",
       "      <td>1.572</td>\n",
       "      <td>-3.936</td>\n",
       "      <td>-0.229</td>\n",
       "      <td>0.148574</td>\n",
       "      <td>-2.576</td>\n",
       "      <td>Down</td>\n",
       "    </tr>\n",
       "    <tr>\n",
       "      <th>2</th>\n",
       "      <td>1990</td>\n",
       "      <td>-2.576</td>\n",
       "      <td>-0.270</td>\n",
       "      <td>0.816</td>\n",
       "      <td>1.572</td>\n",
       "      <td>-3.936</td>\n",
       "      <td>0.159837</td>\n",
       "      <td>3.514</td>\n",
       "      <td>Up</td>\n",
       "    </tr>\n",
       "    <tr>\n",
       "      <th>3</th>\n",
       "      <td>1990</td>\n",
       "      <td>3.514</td>\n",
       "      <td>-2.576</td>\n",
       "      <td>-0.270</td>\n",
       "      <td>0.816</td>\n",
       "      <td>1.572</td>\n",
       "      <td>0.161630</td>\n",
       "      <td>0.712</td>\n",
       "      <td>Up</td>\n",
       "    </tr>\n",
       "    <tr>\n",
       "      <th>4</th>\n",
       "      <td>1990</td>\n",
       "      <td>0.712</td>\n",
       "      <td>3.514</td>\n",
       "      <td>-2.576</td>\n",
       "      <td>-0.270</td>\n",
       "      <td>0.816</td>\n",
       "      <td>0.153728</td>\n",
       "      <td>1.178</td>\n",
       "      <td>Up</td>\n",
       "    </tr>\n",
       "  </tbody>\n",
       "</table>\n",
       "</div>"
      ],
      "text/plain": [
       "   Year   Lag1   Lag2   Lag3   Lag4   Lag5    Volume  Today Direction\n",
       "0  1990  0.816  1.572 -3.936 -0.229 -3.484  0.154976 -0.270      Down\n",
       "1  1990 -0.270  0.816  1.572 -3.936 -0.229  0.148574 -2.576      Down\n",
       "2  1990 -2.576 -0.270  0.816  1.572 -3.936  0.159837  3.514        Up\n",
       "3  1990  3.514 -2.576 -0.270  0.816  1.572  0.161630  0.712        Up\n",
       "4  1990  0.712  3.514 -2.576 -0.270  0.816  0.153728  1.178        Up"
      ]
     },
     "execution_count": 97,
     "metadata": {},
     "output_type": "execute_result"
    }
   ],
   "source": [
    "weekly = pd.read_csv(\"Weekly.csv\")\n",
    "weekly.head()"
   ]
  },
  {
   "cell_type": "markdown",
   "id": "4bdd28ff",
   "metadata": {
    "deletable": false,
    "editable": false,
    "nbgrader": {
     "cell_type": "markdown",
     "checksum": "da14f6ca87e37c4e772ccc270cea9feb",
     "grade": false,
     "grade_id": "cell-md-5",
     "locked": true,
     "schema_version": 3,
     "solution": false,
     "task": false
    }
   },
   "source": [
    "1. First, transform our `Direction` variable into a numerical feature that is equal to 1 if `Direction = Up`."
   ]
  },
  {
   "cell_type": "code",
   "execution_count": 98,
   "id": "e39a8a19",
   "metadata": {
    "deletable": false,
    "nbgrader": {
     "cell_type": "code",
     "checksum": "92d08dd031837eb51d23b9f4a7b2b740",
     "grade": false,
     "grade_id": "cell-solution-1",
     "locked": false,
     "schema_version": 3,
     "solution": true,
     "task": false
    }
   },
   "outputs": [
    {
     "data": {
      "text/html": [
       "<div>\n",
       "<style scoped>\n",
       "    .dataframe tbody tr th:only-of-type {\n",
       "        vertical-align: middle;\n",
       "    }\n",
       "\n",
       "    .dataframe tbody tr th {\n",
       "        vertical-align: top;\n",
       "    }\n",
       "\n",
       "    .dataframe thead th {\n",
       "        text-align: right;\n",
       "    }\n",
       "</style>\n",
       "<table border=\"1\" class=\"dataframe\">\n",
       "  <thead>\n",
       "    <tr style=\"text-align: right;\">\n",
       "      <th></th>\n",
       "      <th>Year</th>\n",
       "      <th>Lag1</th>\n",
       "      <th>Lag2</th>\n",
       "      <th>Lag3</th>\n",
       "      <th>Lag4</th>\n",
       "      <th>Lag5</th>\n",
       "      <th>Volume</th>\n",
       "      <th>Today</th>\n",
       "      <th>Direction</th>\n",
       "    </tr>\n",
       "  </thead>\n",
       "  <tbody>\n",
       "    <tr>\n",
       "      <th>0</th>\n",
       "      <td>1990</td>\n",
       "      <td>0.816</td>\n",
       "      <td>1.572</td>\n",
       "      <td>-3.936</td>\n",
       "      <td>-0.229</td>\n",
       "      <td>-3.484</td>\n",
       "      <td>0.154976</td>\n",
       "      <td>-0.270</td>\n",
       "      <td>0</td>\n",
       "    </tr>\n",
       "    <tr>\n",
       "      <th>1</th>\n",
       "      <td>1990</td>\n",
       "      <td>-0.270</td>\n",
       "      <td>0.816</td>\n",
       "      <td>1.572</td>\n",
       "      <td>-3.936</td>\n",
       "      <td>-0.229</td>\n",
       "      <td>0.148574</td>\n",
       "      <td>-2.576</td>\n",
       "      <td>0</td>\n",
       "    </tr>\n",
       "    <tr>\n",
       "      <th>2</th>\n",
       "      <td>1990</td>\n",
       "      <td>-2.576</td>\n",
       "      <td>-0.270</td>\n",
       "      <td>0.816</td>\n",
       "      <td>1.572</td>\n",
       "      <td>-3.936</td>\n",
       "      <td>0.159837</td>\n",
       "      <td>3.514</td>\n",
       "      <td>1</td>\n",
       "    </tr>\n",
       "    <tr>\n",
       "      <th>3</th>\n",
       "      <td>1990</td>\n",
       "      <td>3.514</td>\n",
       "      <td>-2.576</td>\n",
       "      <td>-0.270</td>\n",
       "      <td>0.816</td>\n",
       "      <td>1.572</td>\n",
       "      <td>0.161630</td>\n",
       "      <td>0.712</td>\n",
       "      <td>1</td>\n",
       "    </tr>\n",
       "    <tr>\n",
       "      <th>4</th>\n",
       "      <td>1990</td>\n",
       "      <td>0.712</td>\n",
       "      <td>3.514</td>\n",
       "      <td>-2.576</td>\n",
       "      <td>-0.270</td>\n",
       "      <td>0.816</td>\n",
       "      <td>0.153728</td>\n",
       "      <td>1.178</td>\n",
       "      <td>1</td>\n",
       "    </tr>\n",
       "  </tbody>\n",
       "</table>\n",
       "</div>"
      ],
      "text/plain": [
       "   Year   Lag1   Lag2   Lag3   Lag4   Lag5    Volume  Today  Direction\n",
       "0  1990  0.816  1.572 -3.936 -0.229 -3.484  0.154976 -0.270          0\n",
       "1  1990 -0.270  0.816  1.572 -3.936 -0.229  0.148574 -2.576          0\n",
       "2  1990 -2.576 -0.270  0.816  1.572 -3.936  0.159837  3.514          1\n",
       "3  1990  3.514 -2.576 -0.270  0.816  1.572  0.161630  0.712          1\n",
       "4  1990  0.712  3.514 -2.576 -0.270  0.816  0.153728  1.178          1"
      ]
     },
     "execution_count": 98,
     "metadata": {},
     "output_type": "execute_result"
    }
   ],
   "source": [
    "# your code here\n",
    "weekly['Direction'] = weekly['Direction'].map({'Up': 1, 'Down': 0})\n",
    "weekly.head()"
   ]
  },
  {
   "cell_type": "markdown",
   "id": "4d206cef",
   "metadata": {
    "deletable": false,
    "editable": false,
    "nbgrader": {
     "cell_type": "markdown",
     "checksum": "176fbdec3a56320c07a9ab16af6c9132",
     "grade": false,
     "grade_id": "cell-md-6",
     "locked": true,
     "schema_version": 3,
     "solution": false,
     "task": false
    }
   },
   "source": [
    "You may now want to produce several numerical and graphical summaries of the `Weekly` data and check for patterns (Hint: see if you can find a correlation between `Year` and `Volume)`"
   ]
  },
  {
   "cell_type": "code",
   "execution_count": 99,
   "id": "66c6a80e",
   "metadata": {
    "deletable": false,
    "nbgrader": {
     "cell_type": "code",
     "checksum": "18b11a836190515361fd040e3b70958e",
     "grade": false,
     "grade_id": "cell-solution-2",
     "locked": false,
     "schema_version": 3,
     "solution": true,
     "task": false
    }
   },
   "outputs": [
    {
     "name": "stdout",
     "output_type": "stream",
     "text": [
      "\n",
      "Basic Descriptive Statistics:\n",
      "              Year         Lag1         Lag2         Lag3         Lag4  \\\n",
      "count  1089.000000  1089.000000  1089.000000  1089.000000  1089.000000   \n",
      "mean   2000.048669     0.150585     0.151079     0.147205     0.145818   \n",
      "std       6.033182     2.357013     2.357254     2.360502     2.360279   \n",
      "min    1990.000000   -18.195000   -18.195000   -18.195000   -18.195000   \n",
      "25%    1995.000000    -1.154000    -1.154000    -1.158000    -1.158000   \n",
      "50%    2000.000000     0.241000     0.241000     0.241000     0.238000   \n",
      "75%    2005.000000     1.405000     1.409000     1.409000     1.409000   \n",
      "max    2010.000000    12.026000    12.026000    12.026000    12.026000   \n",
      "\n",
      "              Lag5       Volume        Today    Direction  \n",
      "count  1089.000000  1089.000000  1089.000000  1089.000000  \n",
      "mean      0.139893     1.574618     0.149899     0.555556  \n",
      "std       2.361285     1.686636     2.356927     0.497132  \n",
      "min     -18.195000     0.087465   -18.195000     0.000000  \n",
      "25%      -1.166000     0.332022    -1.154000     0.000000  \n",
      "50%       0.234000     1.002680     0.241000     1.000000  \n",
      "75%       1.405000     2.053727     1.405000     1.000000  \n",
      "max      12.026000     9.328214    12.026000     1.000000  \n",
      "\n",
      "Correlation between Year and Volume:\n",
      "\n",
      "            Year    Volume\n",
      "Year    1.000000  0.841942\n",
      "Volume  0.841942  1.000000\n",
      "\n",
      "Summary of Direction:\n",
      "\n",
      "1    605\n",
      "0    484\n",
      "Name: Direction, dtype: int64\n"
     ]
    }
   ],
   "source": [
    "# your code here\n",
    "print(\"\\nBasic Descriptive Statistics:\")\n",
    "print(weekly.describe())               \n",
    "\n",
    "print(\"\\nCorrelation between Year and Volume:\\n\")\n",
    "print(weekly[['Year','Volume']].corr())\n",
    "\n",
    "print(\"\\nSummary of Direction:\\n\")\n",
    "print(weekly['Direction'].value_counts())"
   ]
  },
  {
   "cell_type": "markdown",
   "id": "ff5dc969",
   "metadata": {
    "deletable": false,
    "editable": false,
    "nbgrader": {
     "cell_type": "markdown",
     "checksum": "2307962438ec19a10e6088c58470cd8d",
     "grade": false,
     "grade_id": "cell-md-7",
     "locked": true,
     "schema_version": 3,
     "solution": false,
     "task": false
    }
   },
   "source": [
    "2. Use the full dataset to perform logistic regression with `Direction` as the response and the 5 `Lag` variables as predictors."
   ]
  },
  {
   "cell_type": "code",
   "execution_count": 100,
   "id": "a99af481",
   "metadata": {
    "deletable": false,
    "nbgrader": {
     "cell_type": "code",
     "checksum": "45993cc0301c01598f3fa7aa2e7d4c8b",
     "grade": false,
     "grade_id": "cell-solution-3",
     "locked": false,
     "schema_version": 3,
     "solution": true,
     "task": false
    }
   },
   "outputs": [
    {
     "name": "stdout",
     "output_type": "stream",
     "text": [
      "Optimization terminated successfully.\n",
      "         Current function value: 0.682615\n",
      "         Iterations 4\n",
      "                           Logit Regression Results                           \n",
      "==============================================================================\n",
      "Dep. Variable:              Direction   No. Observations:                 1089\n",
      "Model:                          Logit   Df Residuals:                     1083\n",
      "Method:                           MLE   Df Model:                            5\n",
      "Date:                Fri, 15 Nov 2024   Pseudo R-squ.:                0.006327\n",
      "Time:                        04:46:55   Log-Likelihood:                -743.37\n",
      "converged:                       True   LL-Null:                       -748.10\n",
      "Covariance Type:            nonrobust   LLR p-value:                   0.09186\n",
      "==============================================================================\n",
      "                 coef    std err          z      P>|z|      [0.025      0.975]\n",
      "------------------------------------------------------------------------------\n",
      "const          0.2303      0.062      3.712      0.000       0.109       0.352\n",
      "Lag1          -0.0401      0.026     -1.522      0.128      -0.092       0.012\n",
      "Lag2           0.0602      0.027      2.249      0.025       0.008       0.113\n",
      "Lag3          -0.0151      0.027     -0.566      0.571      -0.067       0.037\n",
      "Lag4          -0.0268      0.026     -1.013      0.311      -0.079       0.025\n",
      "Lag5          -0.0135      0.026     -0.512      0.609      -0.065       0.038\n",
      "==============================================================================\n"
     ]
    }
   ],
   "source": [
    "# your code here\n",
    "#raise NotImplementedError\n",
    "# Drop the rows with missing values\n",
    "\n",
    "X = weekly[['Lag1','Lag2','Lag3', 'Lag4', 'Lag5']]\n",
    "y = weekly['Direction']\n",
    "\n",
    "#from sklearn.linear_model import LogisticRegression\n",
    "#logreg = LogisticRegression()\n",
    "#logreg.fit(x,y)\n",
    "#print(\"Model Coefficients:\", logreg.coef_)\n",
    "\n",
    "X = sm.add_constant(X)\n",
    "logit = sm.Logit(y,X)\n",
    "result = logit.fit()\n",
    "print(result.summary())"
   ]
  },
  {
   "cell_type": "markdown",
   "id": "2c3b8d43",
   "metadata": {
    "deletable": false,
    "editable": false,
    "nbgrader": {
     "cell_type": "markdown",
     "checksum": "0e37a638acc896d696f3e374a5805706",
     "grade": false,
     "grade_id": "cell-md-8",
     "locked": true,
     "schema_version": 3,
     "solution": false,
     "task": false
    }
   },
   "source": [
    "How many variables are statistically significant? Store your result in a variable named `num_significant`. (Hint: use the summary() function)"
   ]
  },
  {
   "cell_type": "code",
   "execution_count": 101,
   "id": "4d4a9a60",
   "metadata": {
    "deletable": false,
    "nbgrader": {
     "cell_type": "code",
     "checksum": "33e32e83f93de7a93ec5fafab501062f",
     "grade": false,
     "grade_id": "cell-solution-4",
     "locked": false,
     "schema_version": 3,
     "solution": true,
     "task": false
    }
   },
   "outputs": [],
   "source": [
    "# your code here\n",
    "\n",
    "#Lag2           0.0602      0.027      2.249      0.025       0.008       0.113\n",
    "#Lag2 p-value is < 0.05 so statically significant (others p-value much larger 0.05)\n",
    "num_significant = 1 # Save your solution in this variable"
   ]
  },
  {
   "cell_type": "code",
   "execution_count": 102,
   "id": "ab55d610",
   "metadata": {
    "deletable": false,
    "editable": false,
    "nbgrader": {
     "cell_type": "code",
     "checksum": "466fb7fca7359cd3e9748089df35c8da",
     "grade": true,
     "grade_id": "cell-test-1",
     "locked": true,
     "points": 10,
     "schema_version": 3,
     "solution": false,
     "task": false
    }
   },
   "outputs": [],
   "source": [
    "##########################\n",
    "### TEST YOUR SOLUTION ###\n",
    "##########################\n",
    "\n",
    "assert num_significant == 1, \"Wrong value for num_significant, try again..\""
   ]
  },
  {
   "cell_type": "markdown",
   "id": "8a9ba490",
   "metadata": {
    "deletable": false,
    "editable": false,
    "nbgrader": {
     "cell_type": "markdown",
     "checksum": "42b0e8c8b94b00e2c49d374f6994a48e",
     "grade": false,
     "grade_id": "cell-md-9",
     "locked": true,
     "schema_version": 3,
     "solution": false,
     "task": false
    }
   },
   "source": [
    "Save any variables that are statistically significant in a list named `var_significant`."
   ]
  },
  {
   "cell_type": "code",
   "execution_count": 103,
   "id": "40a44b61",
   "metadata": {
    "deletable": false,
    "nbgrader": {
     "cell_type": "code",
     "checksum": "33faf28c18d7aa57ed4cd470565e1d7e",
     "grade": false,
     "grade_id": "cell-solution-5",
     "locked": false,
     "schema_version": 3,
     "solution": true,
     "task": false
    }
   },
   "outputs": [],
   "source": [
    "# your code here\n",
    "var_significant = ['Lag2'] # Save your solution in this variable\n",
    "#raise NotImplementedError"
   ]
  },
  {
   "cell_type": "code",
   "execution_count": 104,
   "id": "39c9c9d4",
   "metadata": {
    "deletable": false,
    "editable": false,
    "nbgrader": {
     "cell_type": "code",
     "checksum": "50f34a77cc806029df80f2bc9d55c732",
     "grade": true,
     "grade_id": "cell-test-2",
     "locked": true,
     "points": 10,
     "schema_version": 3,
     "solution": false,
     "task": false
    }
   },
   "outputs": [],
   "source": [
    "##########################\n",
    "### TEST YOUR SOLUTION ###\n",
    "##########################\n",
    "\n",
    "assert len(var_significant) == 1, \"There should be num_significant entries in the list\"\n",
    "assert var_significant[0] == 'Lag2', \"That is not the correct variable, try again..\""
   ]
  },
  {
   "cell_type": "markdown",
   "id": "051a0244",
   "metadata": {
    "deletable": false,
    "editable": false,
    "nbgrader": {
     "cell_type": "markdown",
     "checksum": "811a9edb071334bcd0b96511cd5b7379",
     "grade": false,
     "grade_id": "cell-md-10",
     "locked": true,
     "schema_version": 3,
     "solution": false,
     "task": false
    }
   },
   "source": [
    "3. Compute the overall fraction of correct predictions. Store your result in a variable named `fraction_correct`."
   ]
  },
  {
   "cell_type": "code",
   "execution_count": 105,
   "id": "739bcff8",
   "metadata": {
    "deletable": false,
    "nbgrader": {
     "cell_type": "code",
     "checksum": "24093c9a7142375d30ad779849d39db3",
     "grade": false,
     "grade_id": "cell-solution-6",
     "locked": false,
     "schema_version": 3,
     "solution": true,
     "task": false
    }
   },
   "outputs": [
    {
     "name": "stdout",
     "output_type": "stream",
     "text": [
      "0.5629017447199265\n"
     ]
    }
   ],
   "source": [
    "# your code here\n",
    "\n",
    "y_pred = result.predict(X)\n",
    "#print(y_pred)\n",
    "y_pred = (y_pred > 0.5).astype(int)\n",
    "\n",
    "correct_predictions = (y == y_pred).sum()\n",
    "total               = len(y)\n",
    "fraction_correct = correct_predictions/total # Save your solution in this variable\n",
    "print(fraction_correct)"
   ]
  },
  {
   "cell_type": "code",
   "execution_count": 106,
   "id": "45fe01a9",
   "metadata": {
    "deletable": false,
    "editable": false,
    "nbgrader": {
     "cell_type": "code",
     "checksum": "524b84662e8ee43eb077ef3b8563c57e",
     "grade": true,
     "grade_id": "cell-test-3",
     "locked": true,
     "points": 20,
     "schema_version": 3,
     "solution": false,
     "task": false
    }
   },
   "outputs": [],
   "source": [
    "##########################\n",
    "### TEST YOUR SOLUTION ###\n",
    "##########################\n",
    "\n",
    "assert np.allclose(fraction_correct, 0.5629017447199265, .001), \"Incorrect result, try again.. (hint: use the predict() function)\""
   ]
  },
  {
   "cell_type": "markdown",
   "id": "f9f8c4c9",
   "metadata": {
    "deletable": false,
    "editable": false,
    "nbgrader": {
     "cell_type": "markdown",
     "checksum": "3b949af3fb36bacd395d854fde1f398e",
     "grade": false,
     "grade_id": "cell-md-11",
     "locked": true,
     "schema_version": 3,
     "solution": false,
     "task": false
    }
   },
   "source": [
    "5. Now fit the logistic regression model using a training data period from 1990 to 2007, with `Lag2` as the only predictor.\n",
    "\n",
    "Compute the overall fraction of correct predictions for the held out data (that is, the data from 2008, 2009 and 2010) and store it in a variable named `fraction_correct_test`. "
   ]
  },
  {
   "cell_type": "code",
   "execution_count": 107,
   "id": "73df8729",
   "metadata": {
    "deletable": false,
    "nbgrader": {
     "cell_type": "code",
     "checksum": "3c6640c3468cb54dabe7fd76009fa69b",
     "grade": false,
     "grade_id": "cell-solution-7",
     "locked": false,
     "schema_version": 3,
     "solution": true,
     "task": false
    }
   },
   "outputs": [
    {
     "name": "stdout",
     "output_type": "stream",
     "text": [
      "Optimization terminated successfully.\n",
      "         Current function value: 0.691471\n",
      "         Iterations 4\n"
     ]
    },
    {
     "data": {
      "text/plain": [
       "0.5512820512820513"
      ]
     },
     "execution_count": 107,
     "metadata": {},
     "output_type": "execute_result"
    }
   ],
   "source": [
    "### We have split the data for you\n",
    "train = weekly[weekly['Year'] <= 2007]\n",
    "test = weekly[weekly['Year'] > 2007]\n",
    "#fraction_correct_test = None \n",
    "\n",
    "# your code here\n",
    "X_train = train[['Lag2']] # only Lag2 as predictor\n",
    "y_train = train['Direction']\n",
    "\n",
    "X_test = test[['Lag2']]\n",
    "y_test = test['Direction']\n",
    "\n",
    "logit_train = sm.Logit(y_train,X_train)\n",
    "result      = logit_train.fit()\n",
    "#print(result.summary())\n",
    "\n",
    "y_pred_test = result.predict(X_test)\n",
    "y_pred_test = (y_pred_test > 0.5).astype(int)\n",
    "\n",
    "correct_predictions_test = (y_test == y_pred_test).sum()\n",
    "total_test               = len(y_test)\n",
    "fraction_correct_test    = correct_predictions_test/total_test # Save your solution in this variable\n",
    "\n",
    "#raise NotImplementedError\n",
    "fraction_correct_test"
   ]
  },
  {
   "cell_type": "code",
   "execution_count": 108,
   "id": "d40efa22",
   "metadata": {
    "deletable": false,
    "editable": false,
    "nbgrader": {
     "cell_type": "code",
     "checksum": "a152393bb5cb6d50d115db135b2757e9",
     "grade": true,
     "grade_id": "cell-test-4",
     "locked": true,
     "points": 20,
     "schema_version": 3,
     "solution": false,
     "task": false
    }
   },
   "outputs": [],
   "source": [
    "##########################\n",
    "### TEST YOUR SOLUTION ###\n",
    "##########################\n",
    "\n",
    "assert np.allclose(fraction_correct_test, 0.5512820512820513, .001), \"Incorrect result, try again.. (hint: use the predict() function)\""
   ]
  },
  {
   "cell_type": "markdown",
   "id": "160787af",
   "metadata": {
    "deletable": false,
    "editable": false,
    "nbgrader": {
     "cell_type": "markdown",
     "checksum": "611c9015748ef9b0dadaaaafd93a1236",
     "grade": false,
     "grade_id": "cell-md-12",
     "locked": true,
     "schema_version": 3,
     "solution": false,
     "task": false
    }
   },
   "source": [
    "Now, we want to develop an investment strategy in which we buy if the returns are greater than\n",
    "$0.5\\%$ and sell otherwise."
   ]
  },
  {
   "cell_type": "markdown",
   "id": "bf75caf6",
   "metadata": {
    "deletable": false,
    "editable": false,
    "nbgrader": {
     "cell_type": "markdown",
     "checksum": "340f865705ad272e96ffe6ab124d8b95",
     "grade": false,
     "grade_id": "cell-md-13",
     "locked": true,
     "schema_version": 3,
     "solution": false,
     "task": false
    }
   },
   "source": [
    "6. Create a response variable named `Response` such that\n",
    "\n",
    "$$\n",
    "\\text{Response}_i = \\begin{cases}\n",
    "1 \\text{ if Today } > 0.5 &\\\\\n",
    "0 \\text{ otherwise }\n",
    "\\end{cases}\n",
    "$$"
   ]
  },
  {
   "cell_type": "code",
   "execution_count": 109,
   "id": "1616da27",
   "metadata": {
    "deletable": false,
    "nbgrader": {
     "cell_type": "code",
     "checksum": "eac2010795157e2e00ea739a045a46ad",
     "grade": false,
     "grade_id": "cell-solution-8",
     "locked": false,
     "schema_version": 3,
     "solution": true,
     "task": false
    }
   },
   "outputs": [
    {
     "data": {
      "text/html": [
       "<div>\n",
       "<style scoped>\n",
       "    .dataframe tbody tr th:only-of-type {\n",
       "        vertical-align: middle;\n",
       "    }\n",
       "\n",
       "    .dataframe tbody tr th {\n",
       "        vertical-align: top;\n",
       "    }\n",
       "\n",
       "    .dataframe thead th {\n",
       "        text-align: right;\n",
       "    }\n",
       "</style>\n",
       "<table border=\"1\" class=\"dataframe\">\n",
       "  <thead>\n",
       "    <tr style=\"text-align: right;\">\n",
       "      <th></th>\n",
       "      <th>Year</th>\n",
       "      <th>Lag1</th>\n",
       "      <th>Lag2</th>\n",
       "      <th>Lag3</th>\n",
       "      <th>Lag4</th>\n",
       "      <th>Lag5</th>\n",
       "      <th>Volume</th>\n",
       "      <th>Today</th>\n",
       "      <th>Direction</th>\n",
       "      <th>Response</th>\n",
       "    </tr>\n",
       "  </thead>\n",
       "  <tbody>\n",
       "    <tr>\n",
       "      <th>0</th>\n",
       "      <td>1990</td>\n",
       "      <td>0.816</td>\n",
       "      <td>1.572</td>\n",
       "      <td>-3.936</td>\n",
       "      <td>-0.229</td>\n",
       "      <td>-3.484</td>\n",
       "      <td>0.154976</td>\n",
       "      <td>-0.270</td>\n",
       "      <td>0</td>\n",
       "      <td>0</td>\n",
       "    </tr>\n",
       "    <tr>\n",
       "      <th>1</th>\n",
       "      <td>1990</td>\n",
       "      <td>-0.270</td>\n",
       "      <td>0.816</td>\n",
       "      <td>1.572</td>\n",
       "      <td>-3.936</td>\n",
       "      <td>-0.229</td>\n",
       "      <td>0.148574</td>\n",
       "      <td>-2.576</td>\n",
       "      <td>0</td>\n",
       "      <td>0</td>\n",
       "    </tr>\n",
       "    <tr>\n",
       "      <th>2</th>\n",
       "      <td>1990</td>\n",
       "      <td>-2.576</td>\n",
       "      <td>-0.270</td>\n",
       "      <td>0.816</td>\n",
       "      <td>1.572</td>\n",
       "      <td>-3.936</td>\n",
       "      <td>0.159837</td>\n",
       "      <td>3.514</td>\n",
       "      <td>1</td>\n",
       "      <td>1</td>\n",
       "    </tr>\n",
       "    <tr>\n",
       "      <th>3</th>\n",
       "      <td>1990</td>\n",
       "      <td>3.514</td>\n",
       "      <td>-2.576</td>\n",
       "      <td>-0.270</td>\n",
       "      <td>0.816</td>\n",
       "      <td>1.572</td>\n",
       "      <td>0.161630</td>\n",
       "      <td>0.712</td>\n",
       "      <td>1</td>\n",
       "      <td>1</td>\n",
       "    </tr>\n",
       "    <tr>\n",
       "      <th>4</th>\n",
       "      <td>1990</td>\n",
       "      <td>0.712</td>\n",
       "      <td>3.514</td>\n",
       "      <td>-2.576</td>\n",
       "      <td>-0.270</td>\n",
       "      <td>0.816</td>\n",
       "      <td>0.153728</td>\n",
       "      <td>1.178</td>\n",
       "      <td>1</td>\n",
       "      <td>1</td>\n",
       "    </tr>\n",
       "  </tbody>\n",
       "</table>\n",
       "</div>"
      ],
      "text/plain": [
       "   Year   Lag1   Lag2   Lag3   Lag4   Lag5    Volume  Today  Direction  \\\n",
       "0  1990  0.816  1.572 -3.936 -0.229 -3.484  0.154976 -0.270          0   \n",
       "1  1990 -0.270  0.816  1.572 -3.936 -0.229  0.148574 -2.576          0   \n",
       "2  1990 -2.576 -0.270  0.816  1.572 -3.936  0.159837  3.514          1   \n",
       "3  1990  3.514 -2.576 -0.270  0.816  1.572  0.161630  0.712          1   \n",
       "4  1990  0.712  3.514 -2.576 -0.270  0.816  0.153728  1.178          1   \n",
       "\n",
       "   Response  \n",
       "0         0  \n",
       "1         0  \n",
       "2         1  \n",
       "3         1  \n",
       "4         1  "
      ]
     },
     "execution_count": 109,
     "metadata": {},
     "output_type": "execute_result"
    }
   ],
   "source": [
    "# your code here\n",
    "#raise NotImplementedError\n",
    "weekly['Response'] = (weekly['Today'] > 0.50).astype(int)\n",
    "weekly.head()"
   ]
  },
  {
   "cell_type": "markdown",
   "id": "4a9cae87",
   "metadata": {
    "deletable": false,
    "editable": false,
    "nbgrader": {
     "cell_type": "markdown",
     "checksum": "a933cdcd992fa73d9e92695ad9bfbba5",
     "grade": false,
     "grade_id": "cell-md-14",
     "locked": true,
     "schema_version": 3,
     "solution": false,
     "task": false
    }
   },
   "source": [
    "7.  Fit a logistic regression model to predict `Response` using a training data period from 1990 to 2008, with the five lag variables and volume as predictors."
   ]
  },
  {
   "cell_type": "code",
   "execution_count": 110,
   "id": "519c772f",
   "metadata": {
    "deletable": false,
    "nbgrader": {
     "cell_type": "code",
     "checksum": "198d9797ccc5613132910a8dbf32e1e3",
     "grade": false,
     "grade_id": "cell-solution-9",
     "locked": false,
     "schema_version": 3,
     "solution": true,
     "task": false
    }
   },
   "outputs": [
    {
     "name": "stdout",
     "output_type": "stream",
     "text": [
      "Optimization terminated successfully.\n",
      "         Current function value: 0.681276\n",
      "         Iterations 4\n"
     ]
    },
    {
     "data": {
      "text/html": [
       "<table class=\"simpletable\">\n",
       "<caption>Logit Regression Results</caption>\n",
       "<tr>\n",
       "  <th>Dep. Variable:</th>       <td>Response</td>     <th>  No. Observations:  </th>  <td>   985</td> \n",
       "</tr>\n",
       "<tr>\n",
       "  <th>Model:</th>                 <td>Logit</td>      <th>  Df Residuals:      </th>  <td>   978</td> \n",
       "</tr>\n",
       "<tr>\n",
       "  <th>Method:</th>                 <td>MLE</td>       <th>  Df Model:          </th>  <td>     6</td> \n",
       "</tr>\n",
       "<tr>\n",
       "  <th>Date:</th>            <td>Fri, 15 Nov 2024</td> <th>  Pseudo R-squ.:     </th> <td>0.008988</td>\n",
       "</tr>\n",
       "<tr>\n",
       "  <th>Time:</th>                <td>04:46:58</td>     <th>  Log-Likelihood:    </th> <td> -671.06</td>\n",
       "</tr>\n",
       "<tr>\n",
       "  <th>converged:</th>             <td>True</td>       <th>  LL-Null:           </th> <td> -677.14</td>\n",
       "</tr>\n",
       "<tr>\n",
       "  <th>Covariance Type:</th>     <td>nonrobust</td>    <th>  LLR p-value:       </th>  <td>0.05825</td>\n",
       "</tr>\n",
       "</table>\n",
       "<table class=\"simpletable\">\n",
       "<tr>\n",
       "     <td></td>       <th>coef</th>     <th>std err</th>      <th>z</th>      <th>P>|z|</th>  <th>[0.025</th>    <th>0.975]</th>  \n",
       "</tr>\n",
       "<tr>\n",
       "  <th>const</th>  <td>   -0.0780</td> <td>    0.094</td> <td>   -0.831</td> <td> 0.406</td> <td>   -0.262</td> <td>    0.106</td>\n",
       "</tr>\n",
       "<tr>\n",
       "  <th>Lag1</th>   <td>   -0.0737</td> <td>    0.029</td> <td>   -2.500</td> <td> 0.012</td> <td>   -0.132</td> <td>   -0.016</td>\n",
       "</tr>\n",
       "<tr>\n",
       "  <th>Lag2</th>   <td>    0.0293</td> <td>    0.030</td> <td>    0.985</td> <td> 0.325</td> <td>   -0.029</td> <td>    0.088</td>\n",
       "</tr>\n",
       "<tr>\n",
       "  <th>Lag3</th>   <td>   -0.0147</td> <td>    0.029</td> <td>   -0.503</td> <td> 0.615</td> <td>   -0.072</td> <td>    0.043</td>\n",
       "</tr>\n",
       "<tr>\n",
       "  <th>Lag4</th>   <td>   -0.0246</td> <td>    0.029</td> <td>   -0.840</td> <td> 0.401</td> <td>   -0.082</td> <td>    0.033</td>\n",
       "</tr>\n",
       "<tr>\n",
       "  <th>Lag5</th>   <td>   -0.0314</td> <td>    0.029</td> <td>   -1.072</td> <td> 0.284</td> <td>   -0.089</td> <td>    0.026</td>\n",
       "</tr>\n",
       "<tr>\n",
       "  <th>Volume</th> <td>   -0.1039</td> <td>    0.055</td> <td>   -1.886</td> <td> 0.059</td> <td>   -0.212</td> <td>    0.004</td>\n",
       "</tr>\n",
       "</table>"
      ],
      "text/plain": [
       "<class 'statsmodels.iolib.summary.Summary'>\n",
       "\"\"\"\n",
       "                           Logit Regression Results                           \n",
       "==============================================================================\n",
       "Dep. Variable:               Response   No. Observations:                  985\n",
       "Model:                          Logit   Df Residuals:                      978\n",
       "Method:                           MLE   Df Model:                            6\n",
       "Date:                Fri, 15 Nov 2024   Pseudo R-squ.:                0.008988\n",
       "Time:                        04:46:58   Log-Likelihood:                -671.06\n",
       "converged:                       True   LL-Null:                       -677.14\n",
       "Covariance Type:            nonrobust   LLR p-value:                   0.05825\n",
       "==============================================================================\n",
       "                 coef    std err          z      P>|z|      [0.025      0.975]\n",
       "------------------------------------------------------------------------------\n",
       "const         -0.0780      0.094     -0.831      0.406      -0.262       0.106\n",
       "Lag1          -0.0737      0.029     -2.500      0.012      -0.132      -0.016\n",
       "Lag2           0.0293      0.030      0.985      0.325      -0.029       0.088\n",
       "Lag3          -0.0147      0.029     -0.503      0.615      -0.072       0.043\n",
       "Lag4          -0.0246      0.029     -0.840      0.401      -0.082       0.033\n",
       "Lag5          -0.0314      0.029     -1.072      0.284      -0.089       0.026\n",
       "Volume        -0.1039      0.055     -1.886      0.059      -0.212       0.004\n",
       "==============================================================================\n",
       "\"\"\""
      ]
     },
     "execution_count": 110,
     "metadata": {},
     "output_type": "execute_result"
    }
   ],
   "source": [
    "### We have split the data for you\n",
    "train = weekly[weekly['Year'] <= 2008]\n",
    "test = weekly[weekly['Year'] > 2008]\n",
    "\n",
    "X_train = train[['Lag1','Lag2','Lag3','Lag4','Lag5','Volume']] \n",
    "X_train = sm.add_constant(X_train)\n",
    "y_train = train['Response']\n",
    "\n",
    "X_test = test[['Lag1','Lag2','Lag3','Lag4','Lag5','Volume']] \n",
    "X_test = sm.add_constant(X_test)\n",
    "y_test = test['Response']\n",
    "\n",
    "logit_train = sm.Logit(y_train,X_train)\n",
    "result      = logit_train.fit()\n",
    "\n",
    "result.summary()"
   ]
  },
  {
   "cell_type": "markdown",
   "id": "884a2139",
   "metadata": {
    "deletable": false,
    "editable": false,
    "nbgrader": {
     "cell_type": "markdown",
     "checksum": "4441b15f459df403392da0c86dc2a916",
     "grade": false,
     "grade_id": "cell-md-15",
     "locked": true,
     "schema_version": 3,
     "solution": false,
     "task": false
    }
   },
   "source": [
    "How many variables are statistically significant? Store your result in a variable named `num_significant_B`. (Hint: use the summary() function)"
   ]
  },
  {
   "cell_type": "code",
   "execution_count": 111,
   "id": "dee8824c",
   "metadata": {
    "deletable": false,
    "nbgrader": {
     "cell_type": "code",
     "checksum": "fc4157b29015112069d251c354f0302b",
     "grade": false,
     "grade_id": "cell-solution-10",
     "locked": false,
     "schema_version": 3,
     "solution": true,
     "task": false
    }
   },
   "outputs": [],
   "source": [
    "# your code here\n",
    "# Only \"Lag1\" is statistically significant as p value 0.012 < 0.05!\n",
    "num_significant_B = 1 # Save your solution in this variable\n",
    "\n",
    "#raise NotImplementedError"
   ]
  },
  {
   "cell_type": "code",
   "execution_count": 112,
   "id": "c7fdf217",
   "metadata": {
    "deletable": false,
    "editable": false,
    "nbgrader": {
     "cell_type": "code",
     "checksum": "0730b7ed0991ae1f2d41e99a8dc21401",
     "grade": true,
     "grade_id": "cell-test-5",
     "locked": true,
     "points": 10,
     "schema_version": 3,
     "solution": false,
     "task": false
    }
   },
   "outputs": [],
   "source": [
    "##########################\n",
    "### TEST YOUR SOLUTION ###\n",
    "##########################\n",
    "\n",
    "assert num_significant_B == 1, \"Wrong value for num_significant_B, try again..\""
   ]
  },
  {
   "cell_type": "markdown",
   "id": "2f856a32",
   "metadata": {
    "deletable": false,
    "editable": false,
    "nbgrader": {
     "cell_type": "markdown",
     "checksum": "ff1d156d121588d3ed0146ca45b98010",
     "grade": false,
     "grade_id": "cell-md-16",
     "locked": true,
     "schema_version": 3,
     "solution": false,
     "task": false
    }
   },
   "source": [
    "Save any variables that are statistically significant in a list named `var_significant_B`."
   ]
  },
  {
   "cell_type": "code",
   "execution_count": 113,
   "id": "b79cf6f0",
   "metadata": {
    "deletable": false,
    "nbgrader": {
     "cell_type": "code",
     "checksum": "0e02493d96991e00d81fac31ccdb3f26",
     "grade": false,
     "grade_id": "cell-solution-11",
     "locked": false,
     "schema_version": 3,
     "solution": true,
     "task": false
    }
   },
   "outputs": [],
   "source": [
    "# your code here\n",
    "var_significant_B = ['Lag1'] # Save your solution in this variable\n",
    "\n",
    "#raise NotImplementedError"
   ]
  },
  {
   "cell_type": "code",
   "execution_count": 114,
   "id": "f39b29e2",
   "metadata": {
    "deletable": false,
    "editable": false,
    "nbgrader": {
     "cell_type": "code",
     "checksum": "581438ad341021bfa1cab41c72a3efa7",
     "grade": true,
     "grade_id": "cell-test-6",
     "locked": true,
     "points": 10,
     "schema_version": 3,
     "solution": false,
     "task": false
    }
   },
   "outputs": [],
   "source": [
    "##########################\n",
    "### TEST YOUR SOLUTION ###\n",
    "##########################\n",
    "\n",
    "assert len(var_significant_B) == 1, \"There should be num_significant entries in the list\"\n",
    "assert var_significant_B[0] == 'Lag1', \"That is not the correct variable, try again..\""
   ]
  },
  {
   "cell_type": "markdown",
   "id": "1c043b77",
   "metadata": {
    "deletable": false,
    "editable": false,
    "nbgrader": {
     "cell_type": "markdown",
     "checksum": "78ec930012bb6fdd0e33f92c4c3a3967",
     "grade": false,
     "grade_id": "cell-md-17",
     "locked": true,
     "schema_version": 3,
     "solution": false,
     "task": false
    }
   },
   "source": [
    "Compute the overall fraction of correct predictions for the held out data (that is, the data\n",
    "from 2009 and 2010). Store this value in a variable named `fraction_correct_B`."
   ]
  },
  {
   "cell_type": "code",
   "execution_count": 115,
   "id": "51703caf",
   "metadata": {
    "deletable": false,
    "nbgrader": {
     "cell_type": "code",
     "checksum": "de94874b564b69816f672f0e0462ea78",
     "grade": false,
     "grade_id": "cell-solution-12",
     "locked": false,
     "schema_version": 3,
     "solution": true,
     "task": false
    }
   },
   "outputs": [
    {
     "data": {
      "text/plain": [
       "0.5"
      ]
     },
     "execution_count": 115,
     "metadata": {},
     "output_type": "execute_result"
    }
   ],
   "source": [
    "# your code here\n",
    "\n",
    "y_pred_test = result.predict(X_test)\n",
    "y_pred_test = (y_pred_test > 0.5).astype(int)\n",
    "\n",
    "correct_predictions_test = (y_test == y_pred_test).sum()\n",
    "total_test               = len(y_test)\n",
    "fraction_correct_B       = correct_predictions_test/total_test # Save your solution in this variable\n",
    "\n",
    "fraction_correct_B\n",
    "#raise NotImplementedError"
   ]
  },
  {
   "cell_type": "code",
   "execution_count": 116,
   "id": "27c186f0",
   "metadata": {
    "deletable": false,
    "editable": false,
    "nbgrader": {
     "cell_type": "code",
     "checksum": "a7c2335c8e04b8a61ad8304c6c45d5dd",
     "grade": true,
     "grade_id": "cell-test-7",
     "locked": true,
     "points": 20,
     "schema_version": 3,
     "solution": false,
     "task": false
    }
   },
   "outputs": [],
   "source": [
    "##########################\n",
    "### TEST YOUR SOLUTION ###\n",
    "##########################\n",
    "\n",
    "assert np.allclose(fraction_correct_B, 0.5, .001), \"Incorrect result, try again.. (hint: use the predict() function)\""
   ]
  },
  {
   "cell_type": "code",
   "execution_count": null,
   "id": "01eabb5a",
   "metadata": {},
   "outputs": [],
   "source": []
  }
 ],
 "metadata": {
  "kernelspec": {
   "display_name": "Python 3 (ipykernel)",
   "language": "python",
   "name": "python3"
  },
  "language_info": {
   "codemirror_mode": {
    "name": "ipython",
    "version": 3
   },
   "file_extension": ".py",
   "mimetype": "text/x-python",
   "name": "python",
   "nbconvert_exporter": "python",
   "pygments_lexer": "ipython3",
   "version": "3.10.6"
  }
 },
 "nbformat": 4,
 "nbformat_minor": 5
}
